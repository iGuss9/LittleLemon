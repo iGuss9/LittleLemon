{
 "cells": [
  {
   "cell_type": "code",
   "execution_count": 1,
   "id": "ff88894b",
   "metadata": {},
   "outputs": [
    {
     "name": "stdout",
     "output_type": "stream",
     "text": [
      "Requirement already satisfied: mysql-connector-python in c:\\users\\rober\\appdata\\local\\packages\\pythonsoftwarefoundation.python.3.10_qbz5n2kfra8p0\\localcache\\local-packages\\python310\\site-packages (8.0.31)\n",
      "Requirement already satisfied: protobuf<=3.20.1,>=3.11.0 in c:\\users\\rober\\appdata\\local\\packages\\pythonsoftwarefoundation.python.3.10_qbz5n2kfra8p0\\localcache\\local-packages\\python310\\site-packages (from mysql-connector-python) (3.20.1)\n"
     ]
    }
   ],
   "source": [
    "!pip install mysql-connector-python"
   ]
  },
  {
   "cell_type": "code",
   "execution_count": 7,
   "id": "88b80940",
   "metadata": {},
   "outputs": [
    {
     "name": "stdout",
     "output_type": "stream",
     "text": [
      "Successfully connected to database!\n"
     ]
    }
   ],
   "source": [
    "import mysql.connector as connector\n",
    "from mysql.connector import errorcode \n",
    "from mysql.connector.pooling import MySQLConnectionPool\n",
    "from mysql.connector import Error\n",
    "\n",
    "try:\n",
    "    connection = connector.connect(user = \"database_user_1\", password = \"databaseuser123\",database = \"littlelemondb\")\n",
    "    cursor = connection.cursor()\n",
    "except connector.Error as err:\n",
    "    if err.errno == errorcode.ER_ACCESS_DENIED_ERROR:\n",
    "        print(\"connection user or password is incorrect.\")\n",
    "else:\n",
    "    print(\"Successfully connected to database!\")"
   ]
  },
  {
   "cell_type": "code",
   "execution_count": 9,
   "id": "48edeeee",
   "metadata": {},
   "outputs": [
    {
     "name": "stdout",
     "output_type": "stream",
     "text": [
      "('bookings',)\n",
      "('customers',)\n",
      "('delivery',)\n",
      "('menu',)\n",
      "('menuitems',)\n",
      "('orders',)\n",
      "('ordersview',)\n",
      "('staff',)\n"
     ]
    }
   ],
   "source": [
    "show_tables = \"SHOW tables\"\n",
    "cursor.execute(show_tables)\n",
    "results = cursor.fetchall()\n",
    "for records in results:\n",
    "    print(records)\n"
   ]
  },
  {
   "cell_type": "code",
   "execution_count": 11,
   "id": "881b7e5a",
   "metadata": {},
   "outputs": [
    {
     "name": "stdout",
     "output_type": "stream",
     "text": [
      "('CustomerFullName', 'ContactNumber')\n",
      "('Vanessa McCarthy', '113023343')\n",
      "('Marcos Romero', '112132321')\n"
     ]
    }
   ],
   "source": [
    "promo_campaign_results = \"\"\"\n",
    "SELECT c.CustomerFullName AS CustomerFullName, c.ContactNumber AS ContactNumber\n",
    "FROM Customers c\n",
    "INNER JOIN Orders o\n",
    "ON c.CustomerID = o.CustomerID\n",
    "WHERE o.TotalCost > 60;\n",
    "\"\"\"\n",
    "cursor.execute(promo_campaign_results)\n",
    "results = cursor.fetchall()\n",
    "columns = cursor.column_names\n",
    "print(columns)\n",
    "for records in results:\n",
    "    print(records)"
   ]
  },
  {
   "cell_type": "code",
   "execution_count": null,
   "id": "83c597a9",
   "metadata": {},
   "outputs": [],
   "source": []
  }
 ],
 "metadata": {
  "kernelspec": {
   "display_name": "Python 3 (ipykernel)",
   "language": "python",
   "name": "python3"
  },
  "language_info": {
   "codemirror_mode": {
    "name": "ipython",
    "version": 3
   },
   "file_extension": ".py",
   "mimetype": "text/x-python",
   "name": "python",
   "nbconvert_exporter": "python",
   "pygments_lexer": "ipython3",
   "version": "3.10.10"
  }
 },
 "nbformat": 4,
 "nbformat_minor": 5
}
